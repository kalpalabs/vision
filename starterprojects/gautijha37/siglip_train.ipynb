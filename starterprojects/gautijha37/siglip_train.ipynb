{
 "cells": [
  {
   "cell_type": "markdown",
   "metadata": {},
   "source": [
    "# Data loading"
   ]
  },
  {
   "cell_type": "code",
   "execution_count": 1,
   "metadata": {},
   "outputs": [],
   "source": [
    "import torchvision\n",
    "import torchvision.transforms as transforms\n",
    "from torch.utils.data import random_split\n",
    "\n",
    "cifar10_classes = {\n",
    "    0: \"airplane\",\n",
    "    1: \"automobile\",\n",
    "    2: \"bird\",\n",
    "    3: \"cat\",\n",
    "    4: \"deer\",\n",
    "    5: \"dog\",\n",
    "    6: \"frog\",\n",
    "    7: \"horse\",\n",
    "    8: \"ship\",\n",
    "    9: \"truck\"\n",
    "}\n",
    "\n",
    "cifar10_class_to_idx = {v: k for k, v in cifar10_classes.items()}\n",
    "\n",
    "label_transform = lambda label: cifar10_classes[label]\n",
    "\n",
    "dataset = torchvision.datasets.CIFAR10(\n",
    "    root='/home/azureuser/gautijha37/vision/data',      # Directory where the data will be stored/loaded from\n",
    "    train=True,        # Load the training set\n",
    "    download=True,     # Download the dataset if it's not already present\n",
    "    transform=transforms.Compose([\n",
    "        transforms.ToTensor(),\n",
    "        transforms.Normalize(mean=(0.5, 0.5, 0.5),\n",
    "                         std=(0.5, 0.5, 0.5))\n",
    "    ]),\n",
    "    target_transform=label_transform   \n",
    ")\n",
    "\n",
    "train_size = int(0.8 * len(dataset))\n",
    "val_size = len(dataset) - train_size\n",
    "\n",
    "# Use random_split to safely create subsets\n",
    "train_dataset, val_dataset = random_split(dataset, [train_size, val_size])"
   ]
  },
  {
   "cell_type": "code",
   "execution_count": 2,
   "metadata": {},
   "outputs": [
    {
     "data": {
      "text/plain": [
       "device(type='cuda')"
      ]
     },
     "execution_count": 2,
     "metadata": {},
     "output_type": "execute_result"
    }
   ],
   "source": [
    "import torch\n",
    "device = torch.device(\"cuda\" if torch.cuda.is_available() else \"cpu\")\n",
    "device"
   ]
  },
  {
   "cell_type": "code",
   "execution_count": 3,
   "metadata": {},
   "outputs": [
    {
     "name": "stderr",
     "output_type": "stream",
     "text": [
      "/home/azureuser/gautijha37/vision/.venv/lib/python3.10/site-packages/tqdm/auto.py:21: TqdmWarning: IProgress not found. Please update jupyter and ipywidgets. See https://ipywidgets.readthedocs.io/en/stable/user_install.html\n",
      "  from .autonotebook import tqdm as notebook_tqdm\n"
     ]
    }
   ],
   "source": [
    "from transformers import SiglipModel, SiglipImageProcessor, SiglipTokenizer, SiglipConfig, SiglipVisionConfig, SiglipTextConfig, SiglipVisionModel, SiglipTextModel\n",
    "\n",
    "config = SiglipConfig()\n",
    "config.vision_config.image_size=32\n",
    "config.text_config.max_position_embeddings=4 # max length of tokenized classes\n",
    "\n",
    "model = SiglipModel(config).to(device)\n",
    "\n",
    "img_processor = SiglipImageProcessor(do_resize=False, do_rescale=False) # transforms.ToTensor() already scales input img to [-1, 1]\n",
    "tokenizer = SiglipTokenizer.from_pretrained(\"google/siglip-base-patch16-224\")\n"
   ]
  },
  {
   "cell_type": "markdown",
   "metadata": {},
   "source": [
    "# Training"
   ]
  },
  {
   "cell_type": "code",
   "execution_count": 12,
   "metadata": {},
   "outputs": [
    {
     "name": "stderr",
     "output_type": "stream",
     "text": [
      "  0%|          | 0/20 [00:00<?, ?it/s]"
     ]
    },
    {
     "name": "stdout",
     "output_type": "stream",
     "text": [
      "batched loss: 0, 125, 8.251632690429688\n",
      "batched loss: 0, 250, 10.437765121459961\n",
      "batched loss: 0, 375, 7.887005805969238\n",
      "batched loss: 0, 500, 8.607136726379395\n"
     ]
    },
    {
     "name": "stderr",
     "output_type": "stream",
     "text": [
      "  5%|▌         | 1/20 [00:32<10:18, 32.55s/it]"
     ]
    },
    {
     "name": "stdout",
     "output_type": "stream",
     "text": [
      "batched loss: 0, 625, 11.275980949401855\n",
      "Epoch [1/20], Loss: 11.2760\n",
      "batched loss: 1, 125, 12.086872100830078\n",
      "batched loss: 1, 250, 10.13748550415039\n",
      "batched loss: 1, 375, 10.029108047485352\n",
      "batched loss: 1, 500, 9.858497619628906\n"
     ]
    },
    {
     "name": "stderr",
     "output_type": "stream",
     "text": [
      " 10%|█         | 2/20 [01:04<09:39, 32.21s/it]"
     ]
    },
    {
     "name": "stdout",
     "output_type": "stream",
     "text": [
      "batched loss: 1, 625, 8.93753433227539\n",
      "Epoch [2/20], Loss: 8.9375\n",
      "batched loss: 2, 125, 7.573966026306152\n",
      "batched loss: 2, 250, 7.16526985168457\n",
      "batched loss: 2, 375, 8.515593528747559\n",
      "batched loss: 2, 500, 8.504768371582031\n"
     ]
    },
    {
     "name": "stderr",
     "output_type": "stream",
     "text": [
      " 15%|█▌        | 3/20 [01:37<09:16, 32.76s/it]"
     ]
    },
    {
     "name": "stdout",
     "output_type": "stream",
     "text": [
      "batched loss: 2, 625, 8.086873054504395\n",
      "Epoch [3/20], Loss: 8.0869\n",
      "batched loss: 3, 125, 7.386260986328125\n",
      "batched loss: 3, 250, 8.679308891296387\n",
      "batched loss: 3, 375, 5.694660186767578\n",
      "batched loss: 3, 500, 10.428244590759277\n"
     ]
    },
    {
     "name": "stderr",
     "output_type": "stream",
     "text": [
      " 20%|██        | 4/20 [02:10<08:43, 32.72s/it]"
     ]
    },
    {
     "name": "stdout",
     "output_type": "stream",
     "text": [
      "batched loss: 3, 625, 7.595582008361816\n",
      "Epoch [4/20], Loss: 7.5956\n",
      "batched loss: 4, 125, 5.7448930740356445\n",
      "batched loss: 4, 250, 7.888884544372559\n",
      "batched loss: 4, 375, 8.85267448425293\n",
      "batched loss: 4, 500, 7.029024124145508\n"
     ]
    },
    {
     "name": "stderr",
     "output_type": "stream",
     "text": [
      " 25%|██▌       | 5/20 [02:43<08:10, 32.69s/it]"
     ]
    },
    {
     "name": "stdout",
     "output_type": "stream",
     "text": [
      "batched loss: 4, 625, 6.560457706451416\n",
      "Epoch [5/20], Loss: 6.5605\n",
      "batched loss: 5, 125, 6.026599884033203\n",
      "batched loss: 5, 250, 6.020657062530518\n",
      "batched loss: 5, 375, 7.212881565093994\n",
      "batched loss: 5, 500, 6.445387840270996\n"
     ]
    },
    {
     "name": "stderr",
     "output_type": "stream",
     "text": [
      " 30%|███       | 6/20 [03:14<07:30, 32.17s/it]"
     ]
    },
    {
     "name": "stdout",
     "output_type": "stream",
     "text": [
      "batched loss: 5, 625, 5.751923561096191\n",
      "Epoch [6/20], Loss: 5.7519\n",
      "batched loss: 6, 125, 8.649019241333008\n",
      "batched loss: 6, 250, 6.059032440185547\n",
      "batched loss: 6, 375, 4.5904541015625\n",
      "batched loss: 6, 500, 6.245373725891113\n"
     ]
    },
    {
     "name": "stderr",
     "output_type": "stream",
     "text": [
      " 35%|███▌      | 7/20 [03:45<06:55, 31.95s/it]"
     ]
    },
    {
     "name": "stdout",
     "output_type": "stream",
     "text": [
      "batched loss: 6, 625, 7.074521064758301\n",
      "Epoch [7/20], Loss: 7.0745\n",
      "batched loss: 7, 125, 3.4181060791015625\n",
      "batched loss: 7, 250, 3.8116278648376465\n",
      "batched loss: 7, 375, 4.8702311515808105\n",
      "batched loss: 7, 500, 4.888028144836426\n"
     ]
    },
    {
     "name": "stderr",
     "output_type": "stream",
     "text": [
      " 40%|████      | 8/20 [04:17<06:22, 31.90s/it]"
     ]
    },
    {
     "name": "stdout",
     "output_type": "stream",
     "text": [
      "batched loss: 7, 625, 8.323680877685547\n",
      "Epoch [8/20], Loss: 8.3237\n",
      "batched loss: 8, 125, 5.261958122253418\n",
      "batched loss: 8, 250, 3.921198844909668\n",
      "batched loss: 8, 375, 3.4627089500427246\n",
      "batched loss: 8, 500, 5.434945106506348\n"
     ]
    },
    {
     "name": "stderr",
     "output_type": "stream",
     "text": [
      " 45%|████▌     | 9/20 [04:49<05:51, 31.98s/it]"
     ]
    },
    {
     "name": "stdout",
     "output_type": "stream",
     "text": [
      "batched loss: 8, 625, 4.468222618103027\n",
      "Epoch [9/20], Loss: 4.4682\n",
      "batched loss: 9, 125, 4.3728556632995605\n",
      "batched loss: 9, 250, 4.545963287353516\n",
      "batched loss: 9, 375, 4.304239273071289\n",
      "batched loss: 9, 500, 7.176427841186523\n"
     ]
    },
    {
     "name": "stderr",
     "output_type": "stream",
     "text": [
      " 50%|█████     | 10/20 [05:23<05:24, 32.42s/it]"
     ]
    },
    {
     "name": "stdout",
     "output_type": "stream",
     "text": [
      "batched loss: 9, 625, 3.0454506874084473\n",
      "Epoch [10/20], Loss: 3.0455\n",
      "batched loss: 10, 125, 2.044349193572998\n",
      "batched loss: 10, 250, 5.162559509277344\n",
      "batched loss: 10, 375, 4.393728733062744\n",
      "batched loss: 10, 500, 2.4485228061676025\n"
     ]
    },
    {
     "name": "stderr",
     "output_type": "stream",
     "text": [
      " 55%|█████▌    | 11/20 [05:55<04:51, 32.37s/it]"
     ]
    },
    {
     "name": "stdout",
     "output_type": "stream",
     "text": [
      "batched loss: 10, 625, 2.394949436187744\n",
      "Epoch [11/20], Loss: 2.3949\n",
      "batched loss: 11, 125, 2.3177614212036133\n",
      "batched loss: 11, 250, 1.491883635520935\n",
      "batched loss: 11, 375, 4.769649505615234\n",
      "batched loss: 11, 500, 2.6373038291931152\n"
     ]
    },
    {
     "name": "stderr",
     "output_type": "stream",
     "text": [
      " 60%|██████    | 12/20 [06:27<04:18, 32.28s/it]"
     ]
    },
    {
     "name": "stdout",
     "output_type": "stream",
     "text": [
      "batched loss: 11, 625, 2.0363616943359375\n",
      "Epoch [12/20], Loss: 2.0364\n",
      "batched loss: 12, 125, 1.79353666305542\n",
      "batched loss: 12, 250, 1.914278268814087\n",
      "batched loss: 12, 375, 0.9808317422866821\n",
      "batched loss: 12, 500, 1.2365622520446777\n"
     ]
    },
    {
     "name": "stderr",
     "output_type": "stream",
     "text": [
      " 65%|██████▌   | 13/20 [07:00<03:46, 32.39s/it]"
     ]
    },
    {
     "name": "stdout",
     "output_type": "stream",
     "text": [
      "batched loss: 12, 625, 0.8773010969161987\n",
      "Epoch [13/20], Loss: 0.8773\n",
      "batched loss: 13, 125, 2.913853645324707\n",
      "batched loss: 13, 250, 1.869170904159546\n",
      "batched loss: 13, 375, 1.7536046504974365\n",
      "batched loss: 13, 500, 0.8908488750457764\n"
     ]
    },
    {
     "name": "stderr",
     "output_type": "stream",
     "text": [
      " 70%|███████   | 14/20 [07:31<03:13, 32.20s/it]"
     ]
    },
    {
     "name": "stdout",
     "output_type": "stream",
     "text": [
      "batched loss: 13, 625, 2.1419222354888916\n",
      "Epoch [14/20], Loss: 2.1419\n",
      "batched loss: 14, 125, 0.8355830311775208\n",
      "batched loss: 14, 250, 0.6680774688720703\n",
      "batched loss: 14, 375, 2.665609121322632\n",
      "batched loss: 14, 500, 1.632032871246338\n"
     ]
    },
    {
     "name": "stderr",
     "output_type": "stream",
     "text": [
      " 75%|███████▌  | 15/20 [08:05<02:42, 32.47s/it]"
     ]
    },
    {
     "name": "stdout",
     "output_type": "stream",
     "text": [
      "batched loss: 14, 625, 1.8114547729492188\n",
      "Epoch [15/20], Loss: 1.8115\n",
      "batched loss: 15, 125, 1.2758708000183105\n",
      "batched loss: 15, 250, 0.9957938194274902\n",
      "batched loss: 15, 375, 1.9029319286346436\n",
      "batched loss: 15, 500, 0.5994880795478821\n"
     ]
    },
    {
     "name": "stderr",
     "output_type": "stream",
     "text": [
      " 80%|████████  | 16/20 [08:37<02:10, 32.60s/it]"
     ]
    },
    {
     "name": "stdout",
     "output_type": "stream",
     "text": [
      "batched loss: 15, 625, 0.7992912530899048\n",
      "Epoch [16/20], Loss: 0.7993\n",
      "batched loss: 16, 125, 0.597846508026123\n",
      "batched loss: 16, 250, 0.5750250220298767\n",
      "batched loss: 16, 375, 1.4463105201721191\n",
      "batched loss: 16, 500, 0.5460751056671143\n"
     ]
    },
    {
     "name": "stderr",
     "output_type": "stream",
     "text": [
      " 85%|████████▌ | 17/20 [09:10<01:37, 32.58s/it]"
     ]
    },
    {
     "name": "stdout",
     "output_type": "stream",
     "text": [
      "batched loss: 16, 625, 3.1886606216430664\n",
      "Epoch [17/20], Loss: 3.1887\n",
      "batched loss: 17, 125, 0.5369805097579956\n",
      "batched loss: 17, 250, 0.5398163199424744\n",
      "batched loss: 17, 375, 0.5343838930130005\n",
      "batched loss: 17, 500, 2.0929360389709473\n"
     ]
    },
    {
     "name": "stderr",
     "output_type": "stream",
     "text": [
      " 90%|█████████ | 18/20 [09:42<01:04, 32.29s/it]"
     ]
    },
    {
     "name": "stdout",
     "output_type": "stream",
     "text": [
      "batched loss: 17, 625, 1.461958408355713\n",
      "Epoch [18/20], Loss: 1.4620\n",
      "batched loss: 18, 125, 0.5359780192375183\n",
      "batched loss: 18, 250, 0.5427296757698059\n",
      "batched loss: 18, 375, 0.5220982432365417\n",
      "batched loss: 18, 500, 0.5435538291931152\n"
     ]
    },
    {
     "name": "stderr",
     "output_type": "stream",
     "text": [
      " 95%|█████████▌| 19/20 [10:14<00:32, 32.33s/it]"
     ]
    },
    {
     "name": "stdout",
     "output_type": "stream",
     "text": [
      "batched loss: 18, 625, 0.5519874095916748\n",
      "Epoch [19/20], Loss: 0.5520\n",
      "batched loss: 19, 125, 0.5661091804504395\n",
      "batched loss: 19, 250, 2.934039354324341\n",
      "batched loss: 19, 375, 1.2906641960144043\n",
      "batched loss: 19, 500, 0.5394741296768188\n"
     ]
    },
    {
     "name": "stderr",
     "output_type": "stream",
     "text": [
      "100%|██████████| 20/20 [10:46<00:00, 32.31s/it]"
     ]
    },
    {
     "name": "stdout",
     "output_type": "stream",
     "text": [
      "batched loss: 19, 625, 0.5377059578895569\n",
      "Epoch [20/20], Loss: 0.5377\n"
     ]
    },
    {
     "name": "stderr",
     "output_type": "stream",
     "text": [
      "\n"
     ]
    }
   ],
   "source": [
    "from tqdm import tqdm\n",
    "from torch.utils.data import DataLoader\n",
    "import time\n",
    "from torch.optim.lr_scheduler import CosineAnnealingLR\n",
    "import wandb\n",
    "\n",
    "num_epochs = 20\n",
    "# base_lr = 1e-3\n",
    "# ref_batch_size = 4096\n",
    "batch_size = 64\n",
    "# lr = base_lr * torch.sqrt(batch_size/ref_batch_size)\n",
    "lr = 1e-4\n",
    "\n",
    "wandb.init(project=\"siglip-cifar10\", config={\n",
    "    \"num_epochs\": num_epochs,\n",
    "    \"batch_size\": batch_size,\n",
    "    \"learning_rate\": lr,\n",
    "    \"model\": \"SigLIP\",\n",
    "    \"dataset\": \"CIFAR10\"\n",
    "})\n",
    "\n",
    "def collate_fn(batch):\n",
    "    images, labels = zip(*batch)\n",
    "    img_inputs = img_processor(images=images, return_tensors=\"pt\")\n",
    "    text_inputs = tokenizer(text = labels, padding=True, return_tensors=\"pt\")\n",
    "    \n",
    "    labels_ids = torch.tensor([cifar10_class_to_idx[label] for label in labels])\n",
    "    batch_mask = (labels_ids.unsqueeze(1) == labels_ids.unsqueeze(0)).float()\n",
    "    batch_mask = 2 * batch_mask - 1\n",
    "    \n",
    "    return img_inputs, text_inputs, batch_mask\n",
    "\n",
    "train_loader = DataLoader(train_dataset, batch_size=batch_size, shuffle=True, num_workers=16, collate_fn=collate_fn)\n",
    "optimizer = torch.optim.AdamW(model.parameters(), lr=lr)\n",
    "\n",
    "scheduler = CosineAnnealingLR(optimizer, T_max=num_epochs, eta_min=1e-6)\n",
    "\n",
    "for epoch in tqdm(range(num_epochs)):\n",
    "    model.train()\n",
    "    for batch_id, (img_inputs, text_inputs, batch_mask) in enumerate(train_loader):\n",
    "        t0 = time.time()\n",
    "        \n",
    "        img_inputs['pixel_values']=img_inputs['pixel_values'].to(device)\n",
    "        text_inputs['input_ids']=text_inputs['input_ids'].to(device)\n",
    "        batch_mask=batch_mask.to(device)\n",
    "        \n",
    "        # loss calculation\n",
    "        output = model(**text_inputs, **img_inputs)\n",
    "        loglik = torch.nn.functional.logsigmoid(batch_mask * output.logits_per_text)\n",
    "        nll = -torch.sum(loglik, dim=-1)\n",
    "        loss = nll.mean()\n",
    "        \n",
    "        optimizer.zero_grad()\n",
    "        loss.backward()\n",
    "        \n",
    "        wandb.log({\n",
    "            \"batch_loss\": loss.item(),\n",
    "            \"epoch\": epoch,\n",
    "            \"batch\": batch_id,\n",
    "            \"step\": epoch * len(train_loader) + batch_id\n",
    "        })\n",
    "        if (batch_id + 1) % 125 == 0:\n",
    "            print(f\"batched loss: {epoch:}, {batch_id + 1:}, {loss:}\")\n",
    "    scheduler.step()\n",
    "    print(f\"Epoch [{epoch+1}/{num_epochs}], Loss: {loss:.4f}\")\n",
    "        "
   ]
  },
  {
   "cell_type": "markdown",
   "metadata": {},
   "source": [
    "# Validation"
   ]
  },
  {
   "cell_type": "code",
   "execution_count": 13,
   "metadata": {},
   "outputs": [],
   "source": [
    "from safetensors.torch import save_file\n",
    "state_dict = model.state_dict()\n",
    "save_file(state_dict, \"/home/azureuser/gautijha37/vision/siglip.safetensors5\")"
   ]
  },
  {
   "cell_type": "code",
   "execution_count": 14,
   "metadata": {},
   "outputs": [
    {
     "data": {
      "text/plain": [
       "SiglipModel(\n",
       "  (text_model): SiglipTextTransformer(\n",
       "    (embeddings): SiglipTextEmbeddings(\n",
       "      (token_embedding): Embedding(32000, 768)\n",
       "      (position_embedding): Embedding(4, 768)\n",
       "    )\n",
       "    (encoder): SiglipEncoder(\n",
       "      (layers): ModuleList(\n",
       "        (0-11): 12 x SiglipEncoderLayer(\n",
       "          (self_attn): SiglipSdpaAttention(\n",
       "            (k_proj): Linear(in_features=768, out_features=768, bias=True)\n",
       "            (v_proj): Linear(in_features=768, out_features=768, bias=True)\n",
       "            (q_proj): Linear(in_features=768, out_features=768, bias=True)\n",
       "            (out_proj): Linear(in_features=768, out_features=768, bias=True)\n",
       "          )\n",
       "          (layer_norm1): LayerNorm((768,), eps=1e-06, elementwise_affine=True)\n",
       "          (mlp): SiglipMLP(\n",
       "            (activation_fn): PytorchGELUTanh()\n",
       "            (fc1): Linear(in_features=768, out_features=3072, bias=True)\n",
       "            (fc2): Linear(in_features=3072, out_features=768, bias=True)\n",
       "          )\n",
       "          (layer_norm2): LayerNorm((768,), eps=1e-06, elementwise_affine=True)\n",
       "        )\n",
       "      )\n",
       "    )\n",
       "    (final_layer_norm): LayerNorm((768,), eps=1e-06, elementwise_affine=True)\n",
       "    (head): Linear(in_features=768, out_features=768, bias=True)\n",
       "  )\n",
       "  (vision_model): SiglipVisionTransformer(\n",
       "    (embeddings): SiglipVisionEmbeddings(\n",
       "      (patch_embedding): Conv2d(3, 768, kernel_size=(16, 16), stride=(16, 16), padding=valid)\n",
       "      (position_embedding): Embedding(4, 768)\n",
       "    )\n",
       "    (encoder): SiglipEncoder(\n",
       "      (layers): ModuleList(\n",
       "        (0-11): 12 x SiglipEncoderLayer(\n",
       "          (self_attn): SiglipSdpaAttention(\n",
       "            (k_proj): Linear(in_features=768, out_features=768, bias=True)\n",
       "            (v_proj): Linear(in_features=768, out_features=768, bias=True)\n",
       "            (q_proj): Linear(in_features=768, out_features=768, bias=True)\n",
       "            (out_proj): Linear(in_features=768, out_features=768, bias=True)\n",
       "          )\n",
       "          (layer_norm1): LayerNorm((768,), eps=1e-06, elementwise_affine=True)\n",
       "          (mlp): SiglipMLP(\n",
       "            (activation_fn): PytorchGELUTanh()\n",
       "            (fc1): Linear(in_features=768, out_features=3072, bias=True)\n",
       "            (fc2): Linear(in_features=3072, out_features=768, bias=True)\n",
       "          )\n",
       "          (layer_norm2): LayerNorm((768,), eps=1e-06, elementwise_affine=True)\n",
       "        )\n",
       "      )\n",
       "    )\n",
       "    (post_layernorm): LayerNorm((768,), eps=1e-06, elementwise_affine=True)\n",
       "    (head): SiglipMultiheadAttentionPoolingHead(\n",
       "      (attention): MultiheadAttention(\n",
       "        (out_proj): NonDynamicallyQuantizableLinear(in_features=768, out_features=768, bias=True)\n",
       "      )\n",
       "      (layernorm): LayerNorm((768,), eps=1e-06, elementwise_affine=True)\n",
       "      (mlp): SiglipMLP(\n",
       "        (activation_fn): PytorchGELUTanh()\n",
       "        (fc1): Linear(in_features=768, out_features=3072, bias=True)\n",
       "        (fc2): Linear(in_features=3072, out_features=768, bias=True)\n",
       "      )\n",
       "    )\n",
       "  )\n",
       ")"
      ]
     },
     "execution_count": 14,
     "metadata": {},
     "output_type": "execute_result"
    }
   ],
   "source": [
    "model.eval()"
   ]
  },
  {
   "cell_type": "code",
   "execution_count": 15,
   "metadata": {},
   "outputs": [
    {
     "name": "stderr",
     "output_type": "stream",
     "text": [
      "100%|██████████| 1000/1000 [00:15<00:00, 66.49it/s]\n"
     ]
    },
    {
     "data": {
      "text/plain": [
       "45.33"
      ]
     },
     "execution_count": 15,
     "metadata": {},
     "output_type": "execute_result"
    }
   ],
   "source": [
    "from torch.utils.data import DataLoader\n",
    "from tqdm import tqdm\n",
    "\n",
    "val_loader = DataLoader(val_dataset, batch_size=len(cifar10_classes), num_workers=16, shuffle=True)\n",
    "correct = 0\n",
    "\n",
    "all_text_inputs = list(cifar10_classes.values())\n",
    "text_inputs = tokenizer(text=all_text_inputs, padding=True, return_tensors=\"pt\")\n",
    "text_inputs['input_ids']=text_inputs['input_ids'].to(device)\n",
    "\n",
    "for images, correct_labels in tqdm(val_loader):\n",
    "    img_inputs = img_processor(images=images, return_tensors=\"pt\")\n",
    "    img_inputs['pixel_values']=img_inputs['pixel_values'].to(device)\n",
    "    \n",
    "    output = model(**text_inputs, **img_inputs)\n",
    "    predicted_indices = output.logits_per_image.argmax(dim=1)\n",
    "    predicted_labels = [cifar10_classes[k.item()] for k in predicted_indices]\n",
    "    \n",
    "    correct += sum(p == c for p, c in zip(predicted_labels, list(correct_labels)))\n",
    "\n",
    "total = len(val_loader) * val_loader.batch_size\n",
    "100 * correct/total"
   ]
  },
  {
   "cell_type": "markdown",
   "metadata": {},
   "source": [
    "# Testing"
   ]
  },
  {
   "cell_type": "code",
   "execution_count": 16,
   "metadata": {},
   "outputs": [
    {
     "name": "stderr",
     "output_type": "stream",
     "text": [
      "100%|██████████| 1000/1000 [00:15<00:00, 65.54it/s]"
     ]
    },
    {
     "name": "stdout",
     "output_type": "stream",
     "text": [
      "Test Accuracy: 46.87%\n"
     ]
    },
    {
     "name": "stderr",
     "output_type": "stream",
     "text": [
      "\n"
     ]
    }
   ],
   "source": [
    "test_dataset = torchvision.datasets.CIFAR10(\n",
    "    root='/home/azureuser/gautijha37/vision/data',\n",
    "    train=False,        # Load the test set\n",
    "    download=True,\n",
    "    transform=transforms.Compose([\n",
    "        transforms.ToTensor(),\n",
    "        transforms.Normalize(mean=(0.5, 0.5, 0.5),\n",
    "                         std=(0.5, 0.5, 0.5))\n",
    "    ]),\n",
    "    target_transform=label_transform\n",
    ")\n",
    "\n",
    "# Testing on test dataset\n",
    "test_loader = DataLoader(test_dataset, batch_size=len(cifar10_classes), num_workers=16, shuffle=True)\n",
    "correct = 0\n",
    "\n",
    "all_text_inputs = list(cifar10_classes.values())\n",
    "text_inputs = tokenizer(text=all_text_inputs, padding=True, return_tensors=\"pt\")\n",
    "text_inputs['input_ids']=text_inputs['input_ids'].to(device)\n",
    "\n",
    "for images, correct_labels in tqdm(test_loader):\n",
    "    img_inputs = img_processor(images=images, return_tensors=\"pt\")\n",
    "    img_inputs['pixel_values']=img_inputs['pixel_values'].to(device)\n",
    "    \n",
    "    output = model(**text_inputs, **img_inputs)\n",
    "    predicted_indices = output.logits_per_image.argmax(dim=1)\n",
    "    predicted_labels = [cifar10_classes[k.item()] for k in predicted_indices]\n",
    "    \n",
    "    correct += sum(p == c for p, c in zip(predicted_labels, list(correct_labels)))\n",
    "\n",
    "total = len(test_loader) * test_loader.batch_size\n",
    "test_accuracy = 100 * correct/total\n",
    "print(f\"Test Accuracy: {test_accuracy:.2f}%\")"
   ]
  },
  {
   "cell_type": "code",
   "execution_count": null,
   "metadata": {},
   "outputs": [],
   "source": []
  }
 ],
 "metadata": {
  "kernelspec": {
   "display_name": ".venv",
   "language": "python",
   "name": "python3"
  },
  "language_info": {
   "codemirror_mode": {
    "name": "ipython",
    "version": 3
   },
   "file_extension": ".py",
   "mimetype": "text/x-python",
   "name": "python",
   "nbconvert_exporter": "python",
   "pygments_lexer": "ipython3",
   "version": "3.10.12"
  }
 },
 "nbformat": 4,
 "nbformat_minor": 2
}
