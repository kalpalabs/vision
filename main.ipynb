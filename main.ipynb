{
 "cells": [
  {
   "cell_type": "markdown",
   "metadata": {},
   "source": [
    "# Loading model"
   ]
  },
  {
   "cell_type": "code",
   "execution_count": 1,
   "metadata": {},
   "outputs": [],
   "source": [
    "%load_ext autoreload\n",
    "%autoreload 2"
   ]
  },
  {
   "cell_type": "code",
   "execution_count": 2,
   "metadata": {},
   "outputs": [
    {
     "data": {
      "text/plain": [
       "device(type='cuda')"
      ]
     },
     "execution_count": 2,
     "metadata": {},
     "output_type": "execute_result"
    }
   ],
   "source": [
    "import torch\n",
    "from dotenv import load_dotenv\n",
    "load_dotenv()\n",
    "\n",
    "device = torch.device(\"cuda\" if torch.cuda.is_available() else \"cpu\")\n",
    "device"
   ]
  },
  {
   "cell_type": "code",
   "execution_count": 3,
   "metadata": {},
   "outputs": [
    {
     "name": "stderr",
     "output_type": "stream",
     "text": [
      "/home/azureuser/gautijha37/vision/.venv/lib/python3.10/site-packages/tqdm/auto.py:21: TqdmWarning: IProgress not found. Please update jupyter and ipywidgets. See https://ipywidgets.readthedocs.io/en/stable/user_install.html\n",
      "  from .autonotebook import tqdm as notebook_tqdm\n"
     ]
    },
    {
     "name": "stdout",
     "output_type": "stream",
     "text": [
      "model_params=412.442352M, trainable_params=16.391352M\n"
     ]
    }
   ],
   "source": [
    "from siglip_paligemma.models import SiglipWithPoolingHead\n",
    "from siglip_paligemma.configs import Config\n",
    "\n",
    "config = Config()\n",
    "model = SiglipWithPoolingHead(config.model_config).to(device)"
   ]
  },
  {
   "cell_type": "markdown",
   "metadata": {},
   "source": [
    "# Loading Dataset"
   ]
  },
  {
   "cell_type": "code",
   "execution_count": null,
   "metadata": {},
   "outputs": [
    {
     "name": "stdout",
     "output_type": "stream",
     "text": [
      "total_train_samples=1024569, total_val_samples/1e6=0.256598\n"
     ]
    },
    {
     "name": "stderr",
     "output_type": "stream",
     "text": [
      "/home/azureuser/gautijha37/vision/.venv/lib/python3.10/site-packages/webdataset/compat.py:389: UserWarning: WebDataset(shardshuffle=...) is None; set explicitly to False or a number\n",
      "  warnings.warn(\n"
     ]
    },
    {
     "data": {
      "text/plain": [
       "(501, 126, 25)"
      ]
     },
     "execution_count": 4,
     "metadata": {},
     "output_type": "execute_result"
    }
   ],
   "source": [
    "from siglip_paligemma.data import ImageDataLoader\n",
    "\n",
    "data_loader = ImageDataLoader(config.data_config)\n",
    "train_loader, val_loader, test_loader = data_loader.get_dataloaders()\n",
    "len(train_loader), len(val_loader), len(test_loader)"
   ]
  },
  {
   "cell_type": "markdown",
   "metadata": {},
   "source": [
    "# Training bottleneck"
   ]
  },
  {
   "cell_type": "code",
   "execution_count": 7,
   "metadata": {},
   "outputs": [
    {
     "name": "stderr",
     "output_type": "stream",
     "text": [
      "100%|██████████| 10/10 [00:19<00:00,  1.95s/it]\n"
     ]
    },
    {
     "data": {
      "text/plain": [
       "1.9513267755508423"
      ]
     },
     "execution_count": 7,
     "metadata": {},
     "output_type": "execute_result"
    }
   ],
   "source": [
    "import time\n",
    "from tqdm import tqdm\n",
    "num_batches = 10\n",
    "\n",
    "start = time.time()\n",
    "for i, batch in enumerate(tqdm(train_loader, total=num_batches)):\n",
    "    if i >= num_batches:\n",
    "        break\n",
    "    images, labels = batch\n",
    "    images=images.to(device, non_blocking=True)\n",
    "    labels=labels.to(device, non_blocking=True)\n",
    "    \n",
    "end = time.time()\n",
    "(end - start)/num_batches"
   ]
  },
  {
   "cell_type": "code",
   "execution_count": 6,
   "metadata": {},
   "outputs": [
    {
     "name": "stderr",
     "output_type": "stream",
     "text": [
      "  0%|          | 0/10 [00:00<?, ?it/s]"
     ]
    },
    {
     "name": "stderr",
     "output_type": "stream",
     "text": [
      "100%|██████████| 10/10 [01:04<00:00,  6.44s/it]\n"
     ]
    },
    {
     "data": {
      "text/plain": [
       "(17.54414463043213, 46.2051842212677, 0.6553661823272705, 3226.6752212047577)"
      ]
     },
     "execution_count": 6,
     "metadata": {},
     "output_type": "execute_result"
    }
   ],
   "source": [
    "## Identifying Training bottleneck\n",
    "import time\n",
    "from tqdm import tqdm\n",
    "from torch.amp import autocast\n",
    "\n",
    "data_time = 0\n",
    "forward_time = 0\n",
    "backward_time = 0\n",
    "\n",
    "def time_batch(num_batches=10):\n",
    "    global data_time, forward_time, backward_time\n",
    "    model.train()\n",
    "    start = time.time()\n",
    "    for i, batch in enumerate(tqdm(train_loader, total=num_batches)):\n",
    "        if i >= num_batches:\n",
    "            break\n",
    "        \n",
    "        images, labels = batch\n",
    "        images=images.to(device, non_blocking=True)\n",
    "        labels=labels.to(device, non_blocking=True)\n",
    "        torch.cuda.synchronize()\n",
    "        end = time.time()\n",
    "        data_time += end - start\n",
    "        \n",
    "        with autocast(device_type='cuda'):\n",
    "            out = model(pixel_values=images)\n",
    "            \n",
    "            torch.cuda.synchronize()\n",
    "            forward_time += time.time() - end\n",
    "\n",
    "            torch.cuda.synchronize()\n",
    "            start = time.time()\n",
    "            loss = torch.nn.functional.cross_entropy(out, labels)\n",
    "        \n",
    "        loss.backward()\n",
    "        torch.cuda.synchronize()\n",
    "        backward_time += time.time() - start\n",
    "        \n",
    "        torch.cuda.synchronize()\n",
    "        start = time.time()\n",
    "\n",
    "time_batch()\n",
    "\n",
    "total_time = (data_time + forward_time + backward_time)/10 * len(train_loader)\n",
    "data_time, forward_time, backward_time, total_time"
   ]
  },
  {
   "cell_type": "markdown",
   "metadata": {},
   "source": [
    "# Training"
   ]
  },
  {
   "cell_type": "code",
   "execution_count": null,
   "metadata": {},
   "outputs": [
    {
     "name": "stderr",
     "output_type": "stream",
     "text": [
      "\u001b[34m\u001b[1mwandb\u001b[0m: Using wandb-core as the SDK backend.  Please refer to https://wandb.me/wandb-core for more information.\n",
      "\u001b[34m\u001b[1mwandb\u001b[0m: Currently logged in as: \u001b[33mgauti-jha37\u001b[0m (\u001b[33mgauti-jha37-personal\u001b[0m) to \u001b[32mhttps://api.wandb.ai\u001b[0m. Use \u001b[1m`wandb login --relogin`\u001b[0m to force relogin\n"
     ]
    },
    {
     "data": {
      "text/html": [
       "Tracking run with wandb version 0.19.8"
      ],
      "text/plain": [
       "<IPython.core.display.HTML object>"
      ]
     },
     "metadata": {},
     "output_type": "display_data"
    },
    {
     "data": {
      "text/html": [
       "Run data is saved locally in <code>/home/azureuser/gautijha37/vision/wandb/run-20250501_081532-cwcq4tz8</code>"
      ],
      "text/plain": [
       "<IPython.core.display.HTML object>"
      ]
     },
     "metadata": {},
     "output_type": "display_data"
    },
    {
     "data": {
      "text/html": [
       "Syncing run <strong><a href='https://wandb.ai/gauti-jha37-personal/siglip-imagenet-1k/runs/cwcq4tz8' target=\"_blank\">rich-valley-19</a></strong> to <a href='https://wandb.ai/gauti-jha37-personal/siglip-imagenet-1k' target=\"_blank\">Weights & Biases</a> (<a href='https://wandb.me/developer-guide' target=\"_blank\">docs</a>)<br>"
      ],
      "text/plain": [
       "<IPython.core.display.HTML object>"
      ]
     },
     "metadata": {},
     "output_type": "display_data"
    },
    {
     "data": {
      "text/html": [
       " View project at <a href='https://wandb.ai/gauti-jha37-personal/siglip-imagenet-1k' target=\"_blank\">https://wandb.ai/gauti-jha37-personal/siglip-imagenet-1k</a>"
      ],
      "text/plain": [
       "<IPython.core.display.HTML object>"
      ]
     },
     "metadata": {},
     "output_type": "display_data"
    },
    {
     "data": {
      "text/html": [
       " View run at <a href='https://wandb.ai/gauti-jha37-personal/siglip-imagenet-1k/runs/cwcq4tz8' target=\"_blank\">https://wandb.ai/gauti-jha37-personal/siglip-imagenet-1k/runs/cwcq4tz8</a>"
      ],
      "text/plain": [
       "<IPython.core.display.HTML object>"
      ]
     },
     "metadata": {},
     "output_type": "display_data"
    },
    {
     "name": "stderr",
     "output_type": "stream",
     "text": [
      "Training: 507it [37:57,  4.49s/it]                         \n",
      "Validation: 132it [09:38,  4.38s/it]\n",
      "Training:  72%|███████▏  | 363/501 [27:22<10:21,  4.50s/it]"
     ]
    }
   ],
   "source": [
    "from siglip_paligemma.train import Trainer\n",
    "trainer = Trainer(config, device, model, train_loader, val_loader, test_loader)\n",
    "trainer.train()"
   ]
  },
  {
   "cell_type": "code",
   "execution_count": 6,
   "metadata": {},
   "outputs": [],
   "source": [
    "trainer.save_checkpoint(\"siglip.safetensors1\")"
   ]
  },
  {
   "cell_type": "code",
   "execution_count": 5,
   "metadata": {},
   "outputs": [
    {
     "name": "stderr",
     "output_type": "stream",
     "text": [
      "28it [02:51,  6.12s/it]                        "
     ]
    },
    {
     "name": "stdout",
     "output_type": "stream",
     "text": [
      "Evaluation: test_loss=0.7305192708969116, test_acc=82.654\n"
     ]
    },
    {
     "name": "stderr",
     "output_type": "stream",
     "text": [
      "\n"
     ]
    }
   ],
   "source": [
    "trainer.evaluate()"
   ]
  },
  {
   "cell_type": "markdown",
   "metadata": {},
   "source": [
    "# Paligemma"
   ]
  },
  {
   "cell_type": "code",
   "execution_count": 3,
   "metadata": {},
   "outputs": [
    {
     "name": "stderr",
     "output_type": "stream",
     "text": [
      "/home/azureuser/gautijha37/vision/.venv/lib/python3.10/site-packages/tqdm/auto.py:21: TqdmWarning: IProgress not found. Please update jupyter and ipywidgets. See https://ipywidgets.readthedocs.io/en/stable/user_install.html\n",
      "  from .autonotebook import tqdm as notebook_tqdm\n",
      "Loading checkpoint shards: 100%|██████████| 3/3 [00:00<00:00,  6.82it/s]\n"
     ]
    },
    {
     "name": "stdout",
     "output_type": "stream",
     "text": [
      "model_params=412.442352M, trainable_params=16.391352M\n"
     ]
    }
   ],
   "source": [
    "from siglip_paligemma.models import SiglipWithPoolingHead\n",
    "from siglip_paligemma.configs import Config\n",
    "\n",
    "config = Config()\n",
    "config.model_config.model_name = \"google/paligemma-3b-pt-224\"\n",
    "model = SiglipWithPoolingHead(config.model_config).to(device)\n"
   ]
  },
  {
   "cell_type": "code",
   "execution_count": null,
   "metadata": {},
   "outputs": [],
   "source": [
    "from siglip_paligemma.data import ImageDataLoader\n",
    "\n",
    "data_loader = ImageDataLoader(config.data_config)\n",
    "train_loader, val_loader, test_loader = data_loader.get_dataloaders()\n",
    "len(train_loader), len(val_loader), len(test_loader)"
   ]
  },
  {
   "cell_type": "code",
   "execution_count": null,
   "metadata": {},
   "outputs": [],
   "source": [
    "from siglip_paligemma.train import Trainer\n",
    "trainer1 = Trainer(config, device, model, train_loader, val_loader, test_loader)\n",
    "trainer1.train()"
   ]
  },
  {
   "cell_type": "code",
   "execution_count": null,
   "metadata": {},
   "outputs": [],
   "source": [
    "trainer1.save_checkpoint(\"siglip.safetensors2\")\n",
    "trainer1.evaluate()"
   ]
  },
  {
   "cell_type": "markdown",
   "metadata": {},
   "source": [
    "-----"
   ]
  },
  {
   "cell_type": "code",
   "execution_count": 7,
   "metadata": {},
   "outputs": [
    {
     "name": "stderr",
     "output_type": "stream",
     "text": [
      "\u001b[34m\u001b[1mwandb\u001b[0m: Using wandb-core as the SDK backend.  Please refer to https://wandb.me/wandb-core for more information.\n",
      "\u001b[34m\u001b[1mwandb\u001b[0m: Currently logged in as: \u001b[33mgauti-jha37\u001b[0m (\u001b[33mgauti-jha37-personal\u001b[0m) to \u001b[32mhttps://api.wandb.ai\u001b[0m. Use \u001b[1m`wandb login --relogin`\u001b[0m to force relogin\n"
     ]
    },
    {
     "data": {
      "text/html": [
       "creating run (0.0s)"
      ],
      "text/plain": [
       "<IPython.core.display.HTML object>"
      ]
     },
     "metadata": {},
     "output_type": "display_data"
    },
    {
     "data": {
      "text/html": [
       "Tracking run with wandb version 0.19.8"
      ],
      "text/plain": [
       "<IPython.core.display.HTML object>"
      ]
     },
     "metadata": {},
     "output_type": "display_data"
    },
    {
     "data": {
      "text/html": [
       "Run data is saved locally in <code>/home/azureuser/gautijha37/vision/starterprojects/gautijha37/wandb/run-20250406_093238-kqkw01tu</code>"
      ],
      "text/plain": [
       "<IPython.core.display.HTML object>"
      ]
     },
     "metadata": {},
     "output_type": "display_data"
    },
    {
     "data": {
      "text/html": [
       "Syncing run <strong><a href='https://wandb.ai/gauti-jha37-personal/siglip-imagenet-1k/runs/kqkw01tu' target=\"_blank\">cardassian-tuvix-10</a></strong> to <a href='https://wandb.ai/gauti-jha37-personal/siglip-imagenet-1k' target=\"_blank\">Weights & Biases</a> (<a href='https://wandb.me/developer-guide' target=\"_blank\">docs</a>)<br>"
      ],
      "text/plain": [
       "<IPython.core.display.HTML object>"
      ]
     },
     "metadata": {},
     "output_type": "display_data"
    },
    {
     "data": {
      "text/html": [
       " View project at <a href='https://wandb.ai/gauti-jha37-personal/siglip-imagenet-1k' target=\"_blank\">https://wandb.ai/gauti-jha37-personal/siglip-imagenet-1k</a>"
      ],
      "text/plain": [
       "<IPython.core.display.HTML object>"
      ]
     },
     "metadata": {},
     "output_type": "display_data"
    },
    {
     "data": {
      "text/html": [
       " View run at <a href='https://wandb.ai/gauti-jha37-personal/siglip-imagenet-1k/runs/kqkw01tu' target=\"_blank\">https://wandb.ai/gauti-jha37-personal/siglip-imagenet-1k/runs/kqkw01tu</a>"
      ],
      "text/plain": [
       "<IPython.core.display.HTML object>"
      ]
     },
     "metadata": {},
     "output_type": "display_data"
    },
    {
     "name": "stderr",
     "output_type": "stream",
     "text": [
      "507it [09:08,  1.08s/it]                         \n",
      "132it [03:11,  1.45s/it]                         \n",
      "507it [08:57,  1.06s/it]                         \n",
      "132it [03:09,  1.44s/it]                         \n",
      "507it [08:42,  1.03s/it]                         \n",
      "132it [03:05,  1.41s/it]                         \n",
      "507it [08:35,  1.02s/it]                         \n",
      "132it [03:07,  1.42s/it]                         \n",
      "507it [08:34,  1.02s/it]                         \n",
      "132it [03:09,  1.43s/it]                         \n"
     ]
    }
   ],
   "source": [
    "import wandb\n",
    "from tqdm import tqdm\n",
    "from torch.amp import autocast, GradScaler\n",
    "\n",
    "num_epochs=10\n",
    "lr=1e-4\n",
    "\n",
    "wandb.init(project=\"siglip-imagenet-1k\", config={\n",
    "    \"num_epochs\": num_epochs,\n",
    "    \"batch_size\": batch_size,\n",
    "    \"learning_rate\": lr,\n",
    "    \"num_workers\": train_loader.num_workers,\n",
    "    \"model\": \"SigLIP\",\n",
    "    \"dataset\": \"imagenet-1k\",\n",
    "    \"vision_use_head\": config.vision_use_head\n",
    "})\n",
    "\n",
    "# Optimizer\n",
    "optimizer = torch.optim.AdamW(pooling_head.parameters(), lr=lr)\n",
    "\n",
    "scheduler = torch.optim.lr_scheduler.CosineAnnealingLR(\n",
    "    optimizer,\n",
    "    T_max=num_epochs,\n",
    "    eta_min=1e-6\n",
    ")\n",
    "\n",
    "scaler = GradScaler()\n",
    "\n",
    "for epoch in range(num_epochs):\n",
    "    # Training\n",
    "    pooling_head.train()\n",
    "    for batch in tqdm(train_loader, total=train_loader_len):\n",
    "        images, labels = batch\n",
    "        labels=labels.to(device, non_blocking=True)\n",
    "        images=images.to(device, non_blocking=True)\n",
    "        \n",
    "        with autocast('cuda'):\n",
    "            out = model(pixel_values=images)\n",
    "            out = pooling_head(out.last_hidden_state)\n",
    "            loss = torch.nn.functional.cross_entropy(out, labels)\n",
    "        \n",
    "        # Backpropagation\n",
    "        optimizer.zero_grad()\n",
    "        scaler.scale(loss).backward()\n",
    "        scaler.step(optimizer)\n",
    "        scaler.update()\n",
    "        # Log metrics\n",
    "        wandb.log({\n",
    "            \"batch_loss\": loss.item(),\n",
    "            \"lr\": scheduler.get_last_lr()[0]\n",
    "        })\n",
    "    \n",
    "    scheduler.step()\n",
    "    \n",
    "    # Validation\n",
    "    pooling_head.eval()\n",
    "    val_loss = 0\n",
    "    correct = 0\n",
    "    total = 0\n",
    "    \n",
    "    with torch.no_grad():\n",
    "        for batch in tqdm(val_loader, total=val_loader_len):\n",
    "            images, labels = batch\n",
    "            labels=labels.to(device, non_blocking=True)\n",
    "            images=images.to(device, non_blocking=True)\n",
    "            \n",
    "            with autocast('cuda'):\n",
    "                out = model(pixel_values=images)\n",
    "                out = pooling_head(out.last_hidden_state)\n",
    "                curr_loss = torch.nn.functional.cross_entropy(out, labels)\n",
    "                \n",
    "            val_loss += curr_loss.item()\n",
    "            predicted = torch.argmax(out, dim=1)\n",
    "            correct += (predicted == labels).sum().item()\n",
    "            total += len(labels)\n",
    "            \n",
    "    val_loss /= val_loader_len\n",
    "    val_acc = 100 * correct/total\n",
    "    wandb.log({\n",
    "        \"val_loss\": val_loss,\n",
    "        \"val_acc\": val_acc\n",
    "    })"
   ]
  }
 ],
 "metadata": {
  "kernelspec": {
   "display_name": ".venv",
   "language": "python",
   "name": "python3"
  },
  "language_info": {
   "codemirror_mode": {
    "name": "ipython",
    "version": 3
   },
   "file_extension": ".py",
   "mimetype": "text/x-python",
   "name": "python",
   "nbconvert_exporter": "python",
   "pygments_lexer": "ipython3",
   "version": "3.10.12"
  }
 },
 "nbformat": 4,
 "nbformat_minor": 2
}
